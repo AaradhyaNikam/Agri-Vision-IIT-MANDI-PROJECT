from tensorflow.keras import layers, models
from tensorflow.keras.applications import MobileNetV2
from tensorflow.keras.applications.mobilenet_v2 import preprocess_input
from tensorflow.keras.preprocessing.image import ImageDataGenerator
from tensorflow.keras.optimizers import Adam

# Constants
IMAGE_SIZE = 224
BATCH_SIZE = 64
EPOCHS = 30
NUM_CLASSES = 38  # number of classes in your dataset

# ✅ Data Generators
train_datagen = ImageDataGenerator(
    preprocessing_function=preprocess_input,
    rotation_range=20,
    zoom_range=0.2,
    horizontal_flip=True,
    validation_split=0.2
)

train_generator = train_datagen.flow_from_directory(
    "Plant Village Dataset", 
    target_size=(IMAGE_SIZE, IMAGE_SIZE),
    batch_size=BATCH_SIZE,
    class_mode='categorical',
    subset='training'
)

val_generator = train_datagen.flow_from_directory(
    "Plant Village Dataset",  # same folder
    target_size=(IMAGE_SIZE, IMAGE_SIZE),
    batch_size=BATCH_SIZE,
    class_mode='categorical',
    subset='validation'
)

# ✅ Load Base Model Correctly
base_model = MobileNetV2(
    input_shape=(IMAGE_SIZE, IMAGE_SIZE, 3),
    include_top=False,     # exclude the final classification layer
    weights='imagenet'     # use pretrained ImageNet weights
)

# ✅ Freeze base layers initially
base_model.trainable = False

# ✅ Build Final Model
inputs = layers.Input(shape=(IMAGE_SIZE, IMAGE_SIZE, 3))
x = base_model(inputs, training=False)
x = layers.GlobalAveragePooling2D()(x)
x = layers.Dropout(0.4)(x)
x = layers.Dense(256, activation='relu')(x)
x = layers.Dropout(0.3)(x)
outputs = layers.Dense(NUM_CLASSES, activation='softmax')(x)
model = models.Model(inputs, outputs)

# ✅ Compile
model.compile(
    optimizer=Adam(learning_rate=0.0001),
    loss='categorical_crossentropy',
    metrics=['accuracy']
)

# ✅ Check Model Summary (now it should show params)
model.summary()

# ✅ Train
history = model.fit(
    train_generator,
    validation_data=val_generator,
    epochs=EPOCHS
)



import tensorflow as tf
import json
import numpy as np
from tensorflow.keras.preprocessing import image
from tensorflow.keras.models import load_model
from pathlib import Path

# -----------------------------
# Paths
# -----------------------------
models_dir = Path("models")
models_dir.mkdir(exist_ok=True)

model_save_path = models_dir / "model.keras"
class_mapping_path = models_dir / "class_mapping.json"

# -----------------------------
# LOAD MODEL
# -----------------------------
model = load_model(model_save_path)
print(f"✅ Model loaded successfully from: {model_save_path}")

# -----------------------------
# CLASS MAPPING (38 classes)
# -----------------------------
class_mapping = {
    "0": "Apple___Apple_scab",
    "1": "Apple___Black_rot",
    "2": "Apple___Cedar_apple_rust",
    "3": "Apple___healthy",
    "4": "Blueberry___healthy",
    "5": "Cherry_(including_sour)___Powdery_mildew",
    "6": "Cherry_(including_sour)___healthy",
    "7": "Corn_(maize)___Cercospora_leaf_spot Gray_leaf_spot",
    "8": "Corn_(maize)___Common_rust_",
    "9": "Corn_(maize)___Northern_Leaf_Blight",
    "10": "Corn_(maize)___healthy",
    "11": "Grape___Black_rot",
    "12": "Grape___Esca_(Black_Measles)",
    "13": "Grape___Leaf_blight_(Isariopsis_Leaf_Spot)",
    "14": "Grape___healthy",
    "15": "Orange___Haunglongbing_(Citrus_greening)",
    "16": "Peach___Bacterial_spot",
    "17": "Peach___healthy",
    "18": "Pepper,_bell___Bacterial_spot",
    "19": "Pepper,_bell___healthy",
    "20": "Potato___Early_blight",
    "21": "Potato___Late_blight",
    "22": "Potato___healthy",
    "23": "Raspberry___healthy",
    "24": "Soybean___healthy",
    "25": "Squash___Powdery_mildew",
    "26": "Strawberry___Leaf_scorch",
    "27": "Strawberry___healthy",
    "28": "Tomato___Bacterial_spot",
    "29": "Tomato___Early_blight",
    "30": "Tomato___Late_blight",
    "31": "Tomato___Leaf_Mold",
    "32": "Tomato___Septoria_leaf_spot",
    "33": "Tomato___Spider_mites Two-spotted_spider_mite",
    "34": "Tomato___Target_Spot",
    "35": "Tomato___Tomato_Yellow_Leaf_Curl_Virus",
    "36": "Tomato___Tomato_mosaic_virus",
    "37": "Tomato___healthy"
}

with open(class_mapping_path, "w", encoding="utf8") as f:
    json.dump(class_mapping, f, indent=4)
print(f"✅ Class mapping saved successfully at: {class_mapping_path}")

# -----------------------------
# TEST MODEL ON A SAMPLE IMAGE
# -----------------------------
def test_model(sample_image_path):
    img = image.load_img(sample_image_path, target_size=(224, 224))
    x = image.img_to_array(img)
    x = np.expand_dims(x, axis=0)
    x = x / 255.0

    preds = model.predict(x)
    idx = int(np.argmax(preds))
    prob = float(preds[0, idx])
    label = class_mapping[str(idx)]
    print(f"🖼️ Image: {sample_image_path}")
    print(f"✅ Predicted: {label} ({prob*100:.2f}% confidence)")

# Example usage — change image path below:
test_model("Plant Village Dataset/Tomato___Late_blight/0a4b3cde-c83a-4c83-b037-010369738152___RS_Late.B 6985.JPG") 




import json
from pathlib import Path

# Path to the class mapping file
class_mapping_path = Path("models/class_mapping.json")

# Check if file exists
if not class_mapping_path.exists():
    print("❌ class_mapping.json not found! Please check the path.")
else:
    # Load the JSON file
    with open(class_mapping_path, "r", encoding="utf8") as f:
        class_mapping = json.load(f)

    # Display number of classes and few examples
    print(f"✅ Successfully loaded class mapping file: {class_mapping_path}")
    print(f"🔢 Total classes found: {len(class_mapping)}")

    # Show first 10 classes for verification
    print("\n📋 Sample entries (first 10):")
    for key in list(class_mapping.keys())[:10]:
        print(f"{key}: {class_mapping[key]}")

    # Optional: check for missing or duplicate labels
    labels = list(class_mapping.values())
    if len(labels) != len(set(labels)):
        print("\n⚠️ Warning: Duplicate class names detected!")
    else:
        print("\n✅ All class names are unique.")



from tensorflow.keras import layers, models
from tensorflow.keras.applications import MobileNetV2
from tensorflow.keras.applications.mobilenet_v2 import preprocess_input
from tensorflow.keras.preprocessing.image import ImageDataGenerator
from tensorflow.keras.optimizers import Adam

# Constants
IMAGE_SIZE = 224
BATCH_SIZE = 64
EPOCHS = 30
NUM_CLASSES = 38  # number of classes in your dataset

# ✅ Data Generators
train_datagen = ImageDataGenerator(
    preprocessing_function=preprocess_input,
    rotation_range=20,
    zoom_range=0.2,
    horizontal_flip=True,
    validation_split=0.2
)

train_generator = train_datagen.flow_from_directory(
    "Plant Village Dataset", 
    target_size=(IMAGE_SIZE, IMAGE_SIZE),
    batch_size=BATCH_SIZE,
    class_mode='categorical',
    subset='training'
)

val_generator = train_datagen.flow_from_directory(
    "Plant Village Dataset",  # same folder
    target_size=(IMAGE_SIZE, IMAGE_SIZE),
    batch_size=BATCH_SIZE,
    class_mode='categorical',
    subset='validation'
)


# Get class indices (dictionary mapping class name → index)
class_indices = train_generator.class_indices

# Invert it to get index → class name
index_to_class = {v: k for k, v in class_indices.items()}

print("✅ Total classes:", len(index_to_class))
print("📋 Example class mapping:")
for i in range(38):  # print first 10 classes
    print(i, ":", index_to_class[i])



